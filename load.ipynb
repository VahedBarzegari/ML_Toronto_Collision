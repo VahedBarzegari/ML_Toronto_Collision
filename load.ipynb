{
 "cells": [
  {
   "cell_type": "markdown",
   "metadata": {},
   "source": [
    "import geopandas as gpd\n",
    "import zipfile\n",
    "# Read the large GeoJSON file\n",
    "gdf = gpd.read_file(\"Traffic_Collisions.geojson\")\n",
    "\n",
    "# Step 2: Drop unnecessary columns\n",
    "gdf = gdf.drop(columns=['geometry', 'OCC_DATE', '_id'])\n",
    "\n",
    "# Step 3: Convert OCC_YEAR and OCC_HOUR to integers\n",
    "gdf['OCC_YEAR'] = gdf['OCC_YEAR'].astype(int)\n",
    "gdf['OCC_HOUR'] = gdf['OCC_HOUR'].astype(int)\n",
    "\n",
    "# Step 4: Convert LONG_WGS84 and LAT_WGS84 to float\n",
    "gdf['LONG_WGS84'] = gdf['LONG_WGS84'].astype(float)\n",
    "gdf['LAT_WGS84'] = gdf['LAT_WGS84'].astype(float)\n",
    "\n",
    "# Step 5: Convert YES/NO to 1/0 for vehicle and pedestrian involvement\n",
    "columns_to_convert = ['AUTOMOBILE', 'MOTORCYCLE', 'PASSENGER', 'BICYCLE', 'PEDESTRIAN']\n",
    "gdf[columns_to_convert] = gdf[columns_to_convert].applymap(lambda x: 1 if x == 'YES' else 0)\n",
    "\n",
    "gdf = gdf[gdf['LONG_WGS84'] != 0].reset_index(drop=True)\n",
    "\n",
    "gdf"
   ]
  },
  {
   "cell_type": "markdown",
   "metadata": {},
   "source": [
    "for year in range(2014, 2025):\n",
    "    yearly_df = gdf[gdf['OCC_YEAR'] == year]\n",
    "    filename = f\"Traffic_Collisions_{year}.csv\"\n",
    "    yearly_df.to_csv(filename, index=False)\n",
    "\n",
    "\n",
    "import zipfile\n",
    "# Save the CSV file temporarily\n",
    "csv_filename = \"Traffic_Collisions_All.csv\"\n",
    "zip_filename = \"Traffic_Collisions_All.zip\"\n",
    "\n",
    "gdf.to_csv(csv_filename, index=False)\n",
    "\n",
    "# Create a ZIP archive and add the CSV file to it\n",
    "with zipfile.ZipFile(zip_filename, 'w', zipfile.ZIP_DEFLATED) as zipf:\n",
    "    zipf.write(csv_filename)\n",
    "\n",
    "print(\"Saved as ZIP successfully.\")\n"
   ]
  },
  {
   "cell_type": "code",
   "execution_count": null,
   "metadata": {},
   "outputs": [],
   "source": []
  },
  {
   "cell_type": "code",
   "execution_count": null,
   "metadata": {},
   "outputs": [],
   "source": []
  }
 ],
 "metadata": {
  "kernelspec": {
   "display_name": "base",
   "language": "python",
   "name": "python3"
  },
  "language_info": {
   "codemirror_mode": {
    "name": "ipython",
    "version": 3
   },
   "file_extension": ".py",
   "mimetype": "text/x-python",
   "name": "python",
   "nbconvert_exporter": "python",
   "pygments_lexer": "ipython3",
   "version": "3.12.7"
  }
 },
 "nbformat": 4,
 "nbformat_minor": 2
}
